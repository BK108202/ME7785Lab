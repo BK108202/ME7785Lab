{
 "cells": [
  {
   "cell_type": "code",
   "execution_count": 1,
   "metadata": {},
   "outputs": [],
   "source": [
    "import cv2\n",
    "import argparse\n",
    "import csv\n",
    "import math\n",
    "import pickle\n",
    "import numpy as np\n",
    "import random\n",
    "import os\n",
    "import sys\n",
    "from preprocessing import preprocess_image"
   ]
  },
  {
   "cell_type": "code",
   "execution_count": 2,
   "metadata": {},
   "outputs": [
    {
     "name": "stdout",
     "output_type": "stream",
     "text": [
      "Current working directory: c:\\Users\\kangb3\\Desktop\\GT\\ME7785Lab\\Lab6_ws\n"
     ]
    }
   ],
   "source": [
    "import os\n",
    "print(\"Current working directory:\", os.getcwd())"
   ]
  },
  {
   "cell_type": "code",
   "execution_count": null,
   "metadata": {},
   "outputs": [
    {
     "name": "stdout",
     "output_type": "stream",
     "text": [
      "KNN model created!\n",
      "KNN model saved to knn_model.xml\n",
      "194 Correct, 3.0\n",
      "212 Wrong, 5 classified as 1.0\n",
      "\tneighbours: [[1. 1. 5.]]\n",
      "\tdistances: [[1302.3894 1302.3894 1456.045 ]]\n",
      "196 Wrong, 3 classified as 4.0\n",
      "\tneighbours: [[5. 4. 4.]]\n",
      "\tdistances: [[1442.7671 1447.2957 1465.7395]]\n",
      "175 Wrong, 4 classified as 1.0\n",
      "\tneighbours: [[1. 3. 1.]]\n",
      "\tdistances: [[1497.1683 1568.9285 1572.0873]]\n",
      "130 Wrong, 2 classified as 0.0\n",
      "\tneighbours: [[5. 0. 1.]]\n",
      "\tdistances: [[1321.2004 1337.4171 1363.7953]]\n",
      "150 Correct, 3.0\n",
      "068 Wrong, 1 classified as 4.0\n",
      "\tneighbours: [[4. 2. 4.]]\n",
      "\tdistances: [[1477.3602 1488.7413 1501.9285]]\n",
      "143 Wrong, 0 classified as 2.0\n",
      "\tneighbours: [[1. 2. 2.]]\n",
      "\tdistances: [[1658.0725 1699.8958 1700.187 ]]\n",
      "241 Wrong, 5 classified as 2.0\n",
      "\tneighbours: [[4. 5. 2.]]\n",
      "\tdistances: [[1564.7488 1600.6945 1601.6475]]\n",
      "098 Correct, 0.0\n",
      "019 Correct, 1.0\n",
      "042 Wrong, 4 classified as 1.0\n",
      "\tneighbours: [[1. 2. 5.]]\n",
      "\tdistances: [[1428.2308 1437.2568 1440.0348]]\n",
      "174 Correct, 4.0\n",
      "180 Wrong, 4 classified as 1.0\n",
      "\tneighbours: [[5. 2. 1.]]\n",
      "\tdistances: [[1497.6788 1519.4757 1530.4991]]\n",
      "008 Wrong, 2 classified as 1.0\n",
      "\tneighbours: [[2. 1. 5.]]\n",
      "\tdistances: [[1282.9647 1304.018  1312.4685]]\n",
      "056 Wrong, 3 classified as 0.0\n",
      "\tneighbours: [[3. 0. 1.]]\n",
      "\tdistances: [[1459.4269 1474.4652 1476.9949]]\n",
      "211 Correct, 5.0\n",
      "116 Correct, 2.0\n",
      "012 Correct, 2.0\n",
      "195 Wrong, 3 classified as 5.0\n",
      "\tneighbours: [[5. 5. 1.]]\n",
      "\tdistances: [[1361.5061 1399.1337 1417.2997]]\n",
      "163 Wrong, 3 classified as 1.0\n",
      "\tneighbours: [[5. 1. 1.]]\n",
      "\tdistances: [[1318.0061 1319.3665 1339.8856]]\n",
      "032 Wrong, 2 classified as 1.0\n",
      "\tneighbours: [[1. 3. 4.]]\n",
      "\tdistances: [[1378.8226 1425.8538 1451.1296]]\n",
      "182 Wrong, 4 classified as 0.0\n",
      "\tneighbours: [[0. 4. 1.]]\n",
      "\tdistances: [[1479.2805 1492.1582 1511.4072]]\n",
      "224 Wrong, 5 classified as 0.0\n",
      "\tneighbours: [[5. 0. 1.]]\n",
      "\tdistances: [[1236.9851 1278.1316 1288.5194]]\n",
      "152 Wrong, 3 classified as 4.0\n",
      "\tneighbours: [[2. 4. 4.]]\n",
      "\tdistances: [[1421.0099 1452.4373 1456.3367]]\n",
      "198 Wrong, 0 classified as 1.0\n",
      "\tneighbours: [[0. 1. 1.]]\n",
      "\tdistances: [[1697.2968 1703.7902 1708.6837]]\n",
      "162 Wrong, 3 classified as 5.0\n",
      "\tneighbours: [[5. 5. 0.]]\n",
      "\tdistances: [[1435.6986 1456.1035 1480.3251]]\n",
      "030 Correct, 2.0\n",
      "115 Correct, 2.0\n",
      "084 Wrong, 2 classified as 1.0\n",
      "\tneighbours: [[2. 5. 1.]]\n",
      "\tdistances: [[1439.6218 1451.2705 1461.1151]]\n",
      "119 Correct, 1.0\n",
      "159 Wrong, 3 classified as 5.0\n",
      "\tneighbours: [[1. 5. 5.]]\n",
      "\tdistances: [[1305.9413 1323.7727 1330.5469]]\n",
      "221 Wrong, 5 classified as 4.0\n",
      "\tneighbours: [[4. 4. 4.]]\n",
      "\tdistances: [[1393.8127 1422.8615 1483.7622]]\n",
      "000 Correct, 1.0\n",
      "006 Wrong, 4 classified as 1.0\n",
      "\tneighbours: [[4. 1. 5.]]\n",
      "\tdistances: [[1391.9745 1395.4581 1395.7117]]\n",
      "093 Correct, 0.0\n",
      "035 Wrong, 3 classified as 5.0\n",
      "\tneighbours: [[5. 5. 1.]]\n",
      "\tdistances: [[1398.0549 1412.7977 1415.4857]]\n",
      "121 Correct, 2.0\n",
      "187 Correct, 4.0\n",
      "109 Wrong, 2 classified as 0.0\n",
      "\tneighbours: [[1. 2. 0.]]\n",
      "\tdistances: [[1275.7946 1288.2422 1289.0009]]\n",
      "033 Correct, 3.0\n",
      "218 Wrong, 5 classified as 1.0\n",
      "\tneighbours: [[5. 1. 2.]]\n",
      "\tdistances: [[1396.9667 1410.6145 1435.1532]]\n",
      "108 Wrong, 2 classified as 1.0\n",
      "\tneighbours: [[5. 1. 2.]]\n",
      "\tdistances: [[1230.156  1245.8518 1258.8534]]\n",
      "066 Correct, 1.0\n",
      "083 Wrong, 2 classified as 4.0\n",
      "\tneighbours: [[2. 4. 4.]]\n",
      "\tdistances: [[1468.6991 1472.8018 1483.0585]]\n",
      "232 Wrong, 5 classified as 3.0\n",
      "\tneighbours: [[3. 4. 3.]]\n",
      "\tdistances: [[1547.8336 1565.2506 1593.993 ]]\n",
      "079 Wrong, 2 classified as 4.0\n",
      "\tneighbours: [[4. 4. 5.]]\n",
      "\tdistances: [[1396.7457 1446.4027 1456.446 ]]\n",
      "027 Wrong, 0 classified as 2.0\n",
      "\tneighbours: [[3. 2. 4.]]\n",
      "\tdistances: [[1504.5851 1514.8433 1524.9891]]\n",
      "009 Wrong, 2 classified as 1.0\n",
      "\tneighbours: [[2. 1. 5.]]\n",
      "\tdistances: [[1246.2245 1249.5024 1260.2993]]\n",
      "158 Wrong, 3 classified as 0.0\n",
      "\tneighbours: [[3. 4. 0.]]\n",
      "\tdistances: [[1367.6765 1519.1213 1529.1075]]\n",
      "\n",
      "\n",
      "Total accuracy: 0.34\n",
      "[[2. 1. 2. 0. 0. 0.]\n",
      " [0. 4. 0. 0. 1. 0.]\n",
      " [2. 5. 5. 0. 2. 0.]\n",
      " [2. 1. 0. 3. 2. 4.]\n",
      " [1. 4. 0. 0. 2. 0.]\n",
      " [1. 2. 1. 1. 1. 1.]]\n"
     ]
    }
   ],
   "source": [
    "data_path = \"./2025S_imgs/\"\n",
    "data_split_ratio = \"0.8\"  # 80% for training\n",
    "knn_value = \"3\"           # Number of neighbors\n",
    "image_type = \".png\"\n",
    "save_flag = \"-s\"          # Use this flag to save the model\n",
    "\n",
    "!python ./example_knn.py -p {data_path} -r {data_split_ratio} -k {knn_value} -i {image_type} {save_flag}\n"
   ]
  },
  {
   "cell_type": "code",
   "execution_count": 4,
   "metadata": {},
   "outputs": [
    {
     "ename": "TypeError",
     "evalue": "Invalid shape (66696,) for image data",
     "output_type": "error",
     "traceback": [
      "\u001b[1;31m---------------------------------------------------------------------------\u001b[0m",
      "\u001b[1;31mTypeError\u001b[0m                                 Traceback (most recent call last)",
      "Cell \u001b[1;32mIn[4], line 13\u001b[0m\n\u001b[0;32m     10\u001b[0m processed_image \u001b[38;5;241m=\u001b[39m preprocess_image(img)\n\u001b[0;32m     12\u001b[0m \u001b[38;5;66;03m# Convert to RGB for matplotlib (if needed)\u001b[39;00m\n\u001b[1;32m---> 13\u001b[0m \u001b[43mplt\u001b[49m\u001b[38;5;241;43m.\u001b[39;49m\u001b[43mimshow\u001b[49m\u001b[43m(\u001b[49m\u001b[43mprocessed_image\u001b[49m\u001b[43m,\u001b[49m\u001b[43m \u001b[49m\u001b[43mcmap\u001b[49m\u001b[38;5;241;43m=\u001b[39;49m\u001b[38;5;124;43m'\u001b[39;49m\u001b[38;5;124;43mgray\u001b[39;49m\u001b[38;5;124;43m'\u001b[39;49m\u001b[43m)\u001b[49m\n\u001b[0;32m     14\u001b[0m plt\u001b[38;5;241m.\u001b[39mtitle(\u001b[38;5;124m\"\u001b[39m\u001b[38;5;124mProcessed Image\u001b[39m\u001b[38;5;124m\"\u001b[39m)\n\u001b[0;32m     15\u001b[0m plt\u001b[38;5;241m.\u001b[39maxis(\u001b[38;5;124m'\u001b[39m\u001b[38;5;124moff\u001b[39m\u001b[38;5;124m'\u001b[39m)\n",
      "File \u001b[1;32mc:\\Users\\kangb3\\AppData\\Local\\anaconda3\\envs\\ME7785\\lib\\site-packages\\matplotlib\\pyplot.py:3590\u001b[0m, in \u001b[0;36mimshow\u001b[1;34m(X, cmap, norm, aspect, interpolation, alpha, vmin, vmax, colorizer, origin, extent, interpolation_stage, filternorm, filterrad, resample, url, data, **kwargs)\u001b[0m\n\u001b[0;32m   3568\u001b[0m \u001b[38;5;129m@_copy_docstring_and_deprecators\u001b[39m(Axes\u001b[38;5;241m.\u001b[39mimshow)\n\u001b[0;32m   3569\u001b[0m \u001b[38;5;28;01mdef\u001b[39;00m\u001b[38;5;250m \u001b[39m\u001b[38;5;21mimshow\u001b[39m(\n\u001b[0;32m   3570\u001b[0m     X: ArrayLike \u001b[38;5;241m|\u001b[39m PIL\u001b[38;5;241m.\u001b[39mImage\u001b[38;5;241m.\u001b[39mImage,\n\u001b[1;32m   (...)\u001b[0m\n\u001b[0;32m   3588\u001b[0m     \u001b[38;5;241m*\u001b[39m\u001b[38;5;241m*\u001b[39mkwargs,\n\u001b[0;32m   3589\u001b[0m ) \u001b[38;5;241m-\u001b[39m\u001b[38;5;241m>\u001b[39m AxesImage:\n\u001b[1;32m-> 3590\u001b[0m     __ret \u001b[38;5;241m=\u001b[39m gca()\u001b[38;5;241m.\u001b[39mimshow(\n\u001b[0;32m   3591\u001b[0m         X,\n\u001b[0;32m   3592\u001b[0m         cmap\u001b[38;5;241m=\u001b[39mcmap,\n\u001b[0;32m   3593\u001b[0m         norm\u001b[38;5;241m=\u001b[39mnorm,\n\u001b[0;32m   3594\u001b[0m         aspect\u001b[38;5;241m=\u001b[39maspect,\n\u001b[0;32m   3595\u001b[0m         interpolation\u001b[38;5;241m=\u001b[39minterpolation,\n\u001b[0;32m   3596\u001b[0m         alpha\u001b[38;5;241m=\u001b[39malpha,\n\u001b[0;32m   3597\u001b[0m         vmin\u001b[38;5;241m=\u001b[39mvmin,\n\u001b[0;32m   3598\u001b[0m         vmax\u001b[38;5;241m=\u001b[39mvmax,\n\u001b[0;32m   3599\u001b[0m         colorizer\u001b[38;5;241m=\u001b[39mcolorizer,\n\u001b[0;32m   3600\u001b[0m         origin\u001b[38;5;241m=\u001b[39morigin,\n\u001b[0;32m   3601\u001b[0m         extent\u001b[38;5;241m=\u001b[39mextent,\n\u001b[0;32m   3602\u001b[0m         interpolation_stage\u001b[38;5;241m=\u001b[39minterpolation_stage,\n\u001b[0;32m   3603\u001b[0m         filternorm\u001b[38;5;241m=\u001b[39mfilternorm,\n\u001b[0;32m   3604\u001b[0m         filterrad\u001b[38;5;241m=\u001b[39mfilterrad,\n\u001b[0;32m   3605\u001b[0m         resample\u001b[38;5;241m=\u001b[39mresample,\n\u001b[0;32m   3606\u001b[0m         url\u001b[38;5;241m=\u001b[39murl,\n\u001b[0;32m   3607\u001b[0m         \u001b[38;5;241m*\u001b[39m\u001b[38;5;241m*\u001b[39m({\u001b[38;5;124m\"\u001b[39m\u001b[38;5;124mdata\u001b[39m\u001b[38;5;124m\"\u001b[39m: data} \u001b[38;5;28;01mif\u001b[39;00m data \u001b[38;5;129;01mis\u001b[39;00m \u001b[38;5;129;01mnot\u001b[39;00m \u001b[38;5;28;01mNone\u001b[39;00m \u001b[38;5;28;01melse\u001b[39;00m {}),\n\u001b[0;32m   3608\u001b[0m         \u001b[38;5;241m*\u001b[39m\u001b[38;5;241m*\u001b[39mkwargs,\n\u001b[0;32m   3609\u001b[0m     )\n\u001b[0;32m   3610\u001b[0m     sci(__ret)\n\u001b[0;32m   3611\u001b[0m     \u001b[38;5;28;01mreturn\u001b[39;00m __ret\n",
      "File \u001b[1;32mc:\\Users\\kangb3\\AppData\\Local\\anaconda3\\envs\\ME7785\\lib\\site-packages\\matplotlib\\__init__.py:1521\u001b[0m, in \u001b[0;36m_preprocess_data.<locals>.inner\u001b[1;34m(ax, data, *args, **kwargs)\u001b[0m\n\u001b[0;32m   1518\u001b[0m \u001b[38;5;129m@functools\u001b[39m\u001b[38;5;241m.\u001b[39mwraps(func)\n\u001b[0;32m   1519\u001b[0m \u001b[38;5;28;01mdef\u001b[39;00m\u001b[38;5;250m \u001b[39m\u001b[38;5;21minner\u001b[39m(ax, \u001b[38;5;241m*\u001b[39margs, data\u001b[38;5;241m=\u001b[39m\u001b[38;5;28;01mNone\u001b[39;00m, \u001b[38;5;241m*\u001b[39m\u001b[38;5;241m*\u001b[39mkwargs):\n\u001b[0;32m   1520\u001b[0m     \u001b[38;5;28;01mif\u001b[39;00m data \u001b[38;5;129;01mis\u001b[39;00m \u001b[38;5;28;01mNone\u001b[39;00m:\n\u001b[1;32m-> 1521\u001b[0m         \u001b[38;5;28;01mreturn\u001b[39;00m func(\n\u001b[0;32m   1522\u001b[0m             ax,\n\u001b[0;32m   1523\u001b[0m             \u001b[38;5;241m*\u001b[39m\u001b[38;5;28mmap\u001b[39m(cbook\u001b[38;5;241m.\u001b[39msanitize_sequence, args),\n\u001b[0;32m   1524\u001b[0m             \u001b[38;5;241m*\u001b[39m\u001b[38;5;241m*\u001b[39m{k: cbook\u001b[38;5;241m.\u001b[39msanitize_sequence(v) \u001b[38;5;28;01mfor\u001b[39;00m k, v \u001b[38;5;129;01min\u001b[39;00m kwargs\u001b[38;5;241m.\u001b[39mitems()})\n\u001b[0;32m   1526\u001b[0m     bound \u001b[38;5;241m=\u001b[39m new_sig\u001b[38;5;241m.\u001b[39mbind(ax, \u001b[38;5;241m*\u001b[39margs, \u001b[38;5;241m*\u001b[39m\u001b[38;5;241m*\u001b[39mkwargs)\n\u001b[0;32m   1527\u001b[0m     auto_label \u001b[38;5;241m=\u001b[39m (bound\u001b[38;5;241m.\u001b[39marguments\u001b[38;5;241m.\u001b[39mget(label_namer)\n\u001b[0;32m   1528\u001b[0m                   \u001b[38;5;129;01mor\u001b[39;00m bound\u001b[38;5;241m.\u001b[39mkwargs\u001b[38;5;241m.\u001b[39mget(label_namer))\n",
      "File \u001b[1;32mc:\\Users\\kangb3\\AppData\\Local\\anaconda3\\envs\\ME7785\\lib\\site-packages\\matplotlib\\axes\\_axes.py:5976\u001b[0m, in \u001b[0;36mAxes.imshow\u001b[1;34m(self, X, cmap, norm, aspect, interpolation, alpha, vmin, vmax, colorizer, origin, extent, interpolation_stage, filternorm, filterrad, resample, url, **kwargs)\u001b[0m\n\u001b[0;32m   5973\u001b[0m \u001b[38;5;28;01mif\u001b[39;00m aspect \u001b[38;5;129;01mis\u001b[39;00m \u001b[38;5;129;01mnot\u001b[39;00m \u001b[38;5;28;01mNone\u001b[39;00m:\n\u001b[0;32m   5974\u001b[0m     \u001b[38;5;28mself\u001b[39m\u001b[38;5;241m.\u001b[39mset_aspect(aspect)\n\u001b[1;32m-> 5976\u001b[0m \u001b[43mim\u001b[49m\u001b[38;5;241;43m.\u001b[39;49m\u001b[43mset_data\u001b[49m\u001b[43m(\u001b[49m\u001b[43mX\u001b[49m\u001b[43m)\u001b[49m\n\u001b[0;32m   5977\u001b[0m im\u001b[38;5;241m.\u001b[39mset_alpha(alpha)\n\u001b[0;32m   5978\u001b[0m \u001b[38;5;28;01mif\u001b[39;00m im\u001b[38;5;241m.\u001b[39mget_clip_path() \u001b[38;5;129;01mis\u001b[39;00m \u001b[38;5;28;01mNone\u001b[39;00m:\n\u001b[0;32m   5979\u001b[0m     \u001b[38;5;66;03m# image does not already have clipping set, clip to Axes patch\u001b[39;00m\n",
      "File \u001b[1;32mc:\\Users\\kangb3\\AppData\\Local\\anaconda3\\envs\\ME7785\\lib\\site-packages\\matplotlib\\image.py:685\u001b[0m, in \u001b[0;36m_ImageBase.set_data\u001b[1;34m(self, A)\u001b[0m\n\u001b[0;32m    683\u001b[0m \u001b[38;5;28;01mif\u001b[39;00m \u001b[38;5;28misinstance\u001b[39m(A, PIL\u001b[38;5;241m.\u001b[39mImage\u001b[38;5;241m.\u001b[39mImage):\n\u001b[0;32m    684\u001b[0m     A \u001b[38;5;241m=\u001b[39m pil_to_array(A)  \u001b[38;5;66;03m# Needed e.g. to apply png palette.\u001b[39;00m\n\u001b[1;32m--> 685\u001b[0m \u001b[38;5;28mself\u001b[39m\u001b[38;5;241m.\u001b[39m_A \u001b[38;5;241m=\u001b[39m \u001b[38;5;28;43mself\u001b[39;49m\u001b[38;5;241;43m.\u001b[39;49m\u001b[43m_normalize_image_array\u001b[49m\u001b[43m(\u001b[49m\u001b[43mA\u001b[49m\u001b[43m)\u001b[49m\n\u001b[0;32m    686\u001b[0m \u001b[38;5;28mself\u001b[39m\u001b[38;5;241m.\u001b[39m_imcache \u001b[38;5;241m=\u001b[39m \u001b[38;5;28;01mNone\u001b[39;00m\n\u001b[0;32m    687\u001b[0m \u001b[38;5;28mself\u001b[39m\u001b[38;5;241m.\u001b[39mstale \u001b[38;5;241m=\u001b[39m \u001b[38;5;28;01mTrue\u001b[39;00m\n",
      "File \u001b[1;32mc:\\Users\\kangb3\\AppData\\Local\\anaconda3\\envs\\ME7785\\lib\\site-packages\\matplotlib\\image.py:653\u001b[0m, in \u001b[0;36m_ImageBase._normalize_image_array\u001b[1;34m(A)\u001b[0m\n\u001b[0;32m    651\u001b[0m     A \u001b[38;5;241m=\u001b[39m A\u001b[38;5;241m.\u001b[39msqueeze(\u001b[38;5;241m-\u001b[39m\u001b[38;5;241m1\u001b[39m)  \u001b[38;5;66;03m# If just (M, N, 1), assume scalar and apply colormap.\u001b[39;00m\n\u001b[0;32m    652\u001b[0m \u001b[38;5;28;01mif\u001b[39;00m \u001b[38;5;129;01mnot\u001b[39;00m (A\u001b[38;5;241m.\u001b[39mndim \u001b[38;5;241m==\u001b[39m \u001b[38;5;241m2\u001b[39m \u001b[38;5;129;01mor\u001b[39;00m A\u001b[38;5;241m.\u001b[39mndim \u001b[38;5;241m==\u001b[39m \u001b[38;5;241m3\u001b[39m \u001b[38;5;129;01mand\u001b[39;00m A\u001b[38;5;241m.\u001b[39mshape[\u001b[38;5;241m-\u001b[39m\u001b[38;5;241m1\u001b[39m] \u001b[38;5;129;01min\u001b[39;00m [\u001b[38;5;241m3\u001b[39m, \u001b[38;5;241m4\u001b[39m]):\n\u001b[1;32m--> 653\u001b[0m     \u001b[38;5;28;01mraise\u001b[39;00m \u001b[38;5;167;01mTypeError\u001b[39;00m(\u001b[38;5;124mf\u001b[39m\u001b[38;5;124m\"\u001b[39m\u001b[38;5;124mInvalid shape \u001b[39m\u001b[38;5;132;01m{\u001b[39;00mA\u001b[38;5;241m.\u001b[39mshape\u001b[38;5;132;01m}\u001b[39;00m\u001b[38;5;124m for image data\u001b[39m\u001b[38;5;124m\"\u001b[39m)\n\u001b[0;32m    654\u001b[0m \u001b[38;5;28;01mif\u001b[39;00m A\u001b[38;5;241m.\u001b[39mndim \u001b[38;5;241m==\u001b[39m \u001b[38;5;241m3\u001b[39m:\n\u001b[0;32m    655\u001b[0m     \u001b[38;5;66;03m# If the input data has values outside the valid range (after\u001b[39;00m\n\u001b[0;32m    656\u001b[0m     \u001b[38;5;66;03m# normalisation), we issue a warning and then clip X to the bounds\u001b[39;00m\n\u001b[0;32m    657\u001b[0m     \u001b[38;5;66;03m# - otherwise casting wraps extreme values, hiding outliers and\u001b[39;00m\n\u001b[0;32m    658\u001b[0m     \u001b[38;5;66;03m# making reliable interpretation impossible.\u001b[39;00m\n\u001b[0;32m    659\u001b[0m     high \u001b[38;5;241m=\u001b[39m \u001b[38;5;241m255\u001b[39m \u001b[38;5;28;01mif\u001b[39;00m np\u001b[38;5;241m.\u001b[39missubdtype(A\u001b[38;5;241m.\u001b[39mdtype, np\u001b[38;5;241m.\u001b[39minteger) \u001b[38;5;28;01melse\u001b[39;00m \u001b[38;5;241m1\u001b[39m\n",
      "\u001b[1;31mTypeError\u001b[0m: Invalid shape (66696,) for image data"
     ]
    },
    {
     "data": {
      "image/png": "[encoded data removed]",
      "text/plain": [
       "<Figure size 640x480 with 1 Axes>"
      ]
     },
     "metadata": {},
     "output_type": "display_data"
    }
   ],
   "source": [
    "import cv2\n",
    "import matplotlib.pyplot as plt\n",
    "\n",
    "image_path = './2025S_imgs/031.png'\n",
    "img = cv2.imread(image_path)\n",
    "\n",
    "if img is None:\n",
    "    print(f\"Failed to load image from {image_path}\")\n",
    "else:\n",
    "    processed_image = preprocess_image(img)\n",
    "\n",
    "    # Convert to RGB for matplotlib (if needed)\n",
    "    plt.imshow(processed_image, cmap='gray')\n",
    "    plt.title(\"Processed Image\")\n",
    "    plt.axis('off')\n",
    "    plt.show()\n",
    "\n"
   ]
  },
  {
   "cell_type": "code",
   "execution_count": 5,
   "metadata": {},
   "outputs": [
    {
     "name": "stdout",
     "output_type": "stream",
     "text": [
      ">>> [PREDICT] sample.shape = (1, 40812) dtype= float32\n"
     ]
    },
    {
     "name": "stderr",
     "output_type": "stream",
     "text": [
      "Traceback (most recent call last):\n",
      "  File \"c:\\Users\\kangb3\\Desktop\\GT\\ME7785Lab\\Lab6_ws\\model_grader.py\", line 149, in <module>\n",
      "    main()\n",
      "  File \"c:\\Users\\kangb3\\Desktop\\GT\\ME7785Lab\\Lab6_ws\\model_grader.py\", line 146, in main\n",
      "    evaluate_model(model, validation_data)\n",
      "  File \"c:\\Users\\kangb3\\Desktop\\GT\\ME7785Lab\\Lab6_ws\\model_grader.py\", line 113, in evaluate_model\n",
      "    predicted_label = predict(model, image)\n",
      "  File \"c:\\Users\\kangb3\\Desktop\\GT\\ME7785Lab\\Lab6_ws\\model_grader.py\", line 53, in predict\n",
      "    ret, _, _, _ = model.findNearest(sample, 3)\n",
      "cv2.error: OpenCV(4.11.0) D:\\a\\opencv-python\\opencv-python\\opencv\\modules\\ml\\src\\knearest.cpp:313: error: (-215:Assertion failed) test_samples.type() == CV_32F && test_samples.cols == samples.cols in function 'cv::ml::BruteForceImpl::findNearest'\n",
      "\n"
     ]
    }
   ],
   "source": [
    "# Define the paths relative to the current working directory.\n",
    "data_path = \"./2024F_Gimgs/\"         # Path to validation dataset folder\n",
    "model_path = \"./knn_model.xml\"         # Path to your saved model file\n",
    "\n",
    "# Run the model grader script\n",
    "!python ./model_grader.py --data_path {data_path} --model_path {model_path}"
   ]
  }
 ],
 "metadata": {
  "kernelspec": {
   "display_name": "ME7785",
   "language": "python",
   "name": "python3"
  },
  "language_info": {
   "codemirror_mode": {
    "name": "ipython",
    "version": 3
   },
   "file_extension": ".py",
   "mimetype": "text/x-python",
   "name": "python",
   "nbconvert_exporter": "python",
   "pygments_lexer": "ipython3",
   "version": "3.10.16"
  }
 },
 "nbformat": 4,
 "nbformat_minor": 2
}

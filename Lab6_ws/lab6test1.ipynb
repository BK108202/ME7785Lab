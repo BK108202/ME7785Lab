{
 "cells": [
  {
   "cell_type": "code",
   "execution_count": null,
   "metadata": {},
   "outputs": [
    {
     "ename": "ImportError",
     "evalue": "cannot import name 'display_image' from 'preprocessing' (c:\\Users\\kangb3\\Desktop\\GT\\ME7785Lab\\Lab6_ws\\preprocessing.py)",
     "output_type": "error",
     "traceback": [
      "\u001b[1;31m---------------------------------------------------------------------------\u001b[0m",
      "\u001b[1;31mImportError\u001b[0m                               Traceback (most recent call last)",
      "Cell \u001b[1;32mIn[73], line 11\u001b[0m\n\u001b[0;32m      9\u001b[0m \u001b[38;5;28;01mimport\u001b[39;00m\u001b[38;5;250m \u001b[39m\u001b[38;5;21;01msys\u001b[39;00m\n\u001b[0;32m     10\u001b[0m \u001b[38;5;28;01mfrom\u001b[39;00m\u001b[38;5;250m \u001b[39m\u001b[38;5;21;01mpreprocessing\u001b[39;00m\u001b[38;5;250m \u001b[39m\u001b[38;5;28;01mimport\u001b[39;00m preprocess_image\n\u001b[1;32m---> 11\u001b[0m \u001b[38;5;28;01mfrom\u001b[39;00m\u001b[38;5;250m \u001b[39m\u001b[38;5;21;01mpreprocessing\u001b[39;00m\u001b[38;5;250m \u001b[39m\u001b[38;5;28;01mimport\u001b[39;00m display_image\n",
      "\u001b[1;31mImportError\u001b[0m: cannot import name 'display_image' from 'preprocessing' (c:\\Users\\kangb3\\Desktop\\GT\\ME7785Lab\\Lab6_ws\\preprocessing.py)"
     ]
    }
   ],
   "source": [
    "import cv2\n",
    "import argparse\n",
    "import csv\n",
    "import math\n",
    "import pickle\n",
    "import numpy as np\n",
    "import random\n",
    "import os\n",
    "import sys\n",
    "from preprocessing import preprocess_image\n",
    "from preprocessing import display_image"
   ]
  },
  {
   "cell_type": "code",
   "execution_count": 62,
   "metadata": {},
   "outputs": [
    {
     "name": "stdout",
     "output_type": "stream",
     "text": [
      "Current working directory: c:\\Users\\kangb3\\Desktop\\GT\\ME7785Lab\\Lab6_ws\n"
     ]
    }
   ],
   "source": [
    "import os\n",
    "print(\"Current working directory:\", os.getcwd())"
   ]
  },
  {
   "cell_type": "code",
   "execution_count": 69,
   "metadata": {},
   "outputs": [
    {
     "name": "stdout",
     "output_type": "stream",
     "text": [
      "KNN model created!\n",
      "KNN model saved to knn_model.xml\n",
      "270 Wrong, 3 classified as 4.0\n",
      "\tneighbours: [[3. 4. 4.]]\n",
      "\tdistances: [[4.4686155 5.343488  5.8095202]]\n",
      "6 Correct, 1.0\n",
      "61 Correct, 2.0\n",
      "184 Wrong, 4 classified as 1.0\n",
      "\tneighbours: [[3. 4. 1.]]\n",
      "\tdistances: [[11.536303 14.306588 21.14361 ]]\n",
      "271 Wrong, 3 classified as 2.0\n",
      "\tneighbours: [[2. 2. 1.]]\n",
      "\tdistances: [[ 9.010979 11.961544 12.36873 ]]\n",
      "54 Wrong, 2 classified as 1.0\n",
      "\tneighbours: [[3. 1. 4.]]\n",
      "\tdistances: [[80.58286  80.843475 83.384384]]\n",
      "1 Correct, 1.0\n",
      "23 Correct, 1.0\n",
      "178 Wrong, 4 classified as 1.0\n",
      "\tneighbours: [[1. 2. 1.]]\n",
      "\tdistances: [[66.815636 91.32615  96.18236 ]]\n",
      "280 Wrong, 3 classified as 4.0\n",
      "\tneighbours: [[4. 1. 4.]]\n",
      "\tdistances: [[5.236552 6.243097 6.760732]]\n",
      "11 Wrong, 1 classified as 0.0\n",
      "\tneighbours: [[5. 0. 3.]]\n",
      "\tdistances: [[182.88292 198.34685 201.26941]]\n",
      "28 Wrong, 1 classified as 2.0\n",
      "\tneighbours: [[5. 2. 3.]]\n",
      "\tdistances: [[26.014837 33.446186 74.31411 ]]\n",
      "147 Correct, 2.0\n",
      "79 Wrong, 2 classified as 1.0\n",
      "\tneighbours: [[1. 2. 3.]]\n",
      "\tdistances: [[ 3.7949238 10.974106  12.940554 ]]\n",
      "7 Wrong, 1 classified as 2.0\n",
      "\tneighbours: [[2. 1. 2.]]\n",
      "\tdistances: [[3.1018565 4.577103  4.711491 ]]\n",
      "48 Correct, 2.0\n",
      "314 Wrong, 0 classified as 1.0\n",
      "\tneighbours: [[1. 1. 1.]]\n",
      "\tdistances: [[5.8696003 6.2712336 6.4696536]]\n",
      "307 Wrong, 0 classified as 1.0\n",
      "\tneighbours: [[1. 3. 5.]]\n",
      "\tdistances: [[131.86813 149.63875 179.37541]]\n",
      "32 Correct, 1.0\n",
      "296 Wrong, 0 classified as 5.0\n",
      "\tneighbours: [[5. 5. 2.]]\n",
      "\tdistances: [[ 67.60169  105.02     108.146225]]\n",
      "75 Wrong, 2 classified as 0.0\n",
      "\tneighbours: [[1. 2. 0.]]\n",
      "\tdistances: [[ 22.116789  82.86562  109.0063  ]]\n",
      "298 Correct, 0.0\n",
      "254 Wrong, 3 classified as 1.0\n",
      "\tneighbours: [[1. 1. 3.]]\n",
      "\tdistances: [[20.196144 21.714663 26.181787]]\n",
      "131 Wrong, 2 classified as 1.0\n",
      "\tneighbours: [[3. 4. 1.]]\n",
      "\tdistances: [[20.155294 23.546589 34.8005  ]]\n",
      "155 Correct, 2.0\n",
      "309 Wrong, 0 classified as 2.0\n",
      "\tneighbours: [[2. 4. 2.]]\n",
      "\tdistances: [[25.199917 36.630623 66.0916  ]]\n",
      "240 Wrong, 5 classified as 1.0\n",
      "\tneighbours: [[1. 2. 1.]]\n",
      "\tdistances: [[3.5006833 3.981415  4.2996182]]\n",
      "232 Wrong, 5 classified as 0.0\n",
      "\tneighbours: [[4. 0. 3.]]\n",
      "\tdistances: [[ 40.61445 102.02556 144.48254]]\n",
      "315 Wrong, 0 classified as 1.0\n",
      "\tneighbours: [[5. 1. 3.]]\n",
      "\tdistances: [[ 52.792984 145.6413   173.91185 ]]\n",
      "78 Wrong, 2 classified as 0.0\n",
      "\tneighbours: [[5. 0. 0.]]\n",
      "\tdistances: [[ 37.789234 138.90288  215.28453 ]]\n",
      "49 Wrong, 2 classified as 1.0\n",
      "\tneighbours: [[3. 1. 5.]]\n",
      "\tdistances: [[36.281612 37.591766 38.618187]]\n",
      "51 Wrong, 2 classified as 1.0\n",
      "\tneighbours: [[3. 1. 5.]]\n",
      "\tdistances: [[ 94.99552  102.00883  105.776505]]\n",
      "81 Correct, 1.0\n",
      "168 Wrong, 4 classified as 2.0\n",
      "\tneighbours: [[4. 2. 2.]]\n",
      "\tdistances: [[38.84031  40.884907 58.900993]]\n",
      "225 Wrong, 5 classified as 2.0\n",
      "\tneighbours: [[3. 2. 4.]]\n",
      "\tdistances: [[4.074761  4.8825617 5.035867 ]]\n",
      "152 Correct, 2.0\n",
      "119 Wrong, 1 classified as 5.0\n",
      "\tneighbours: [[4. 5. 5.]]\n",
      "\tdistances: [[ 5.213692  9.289212 30.302128]]\n",
      "13 Wrong, 1 classified as 5.0\n",
      "\tneighbours: [[5. 5. 2.]]\n",
      "\tdistances: [[42.151436 53.55193  59.47363 ]]\n",
      "56 Wrong, 2 classified as 0.0\n",
      "\tneighbours: [[5. 0. 3.]]\n",
      "\tdistances: [[107.31297  107.488945 139.59724 ]]\n",
      "313 Wrong, 0 classified as 4.0\n",
      "\tneighbours: [[4. 4. 1.]]\n",
      "\tdistances: [[55.056076 59.315117 65.93481 ]]\n",
      "85 Wrong, 1 classified as 2.0\n",
      "\tneighbours: [[2. 0. 2.]]\n",
      "\tdistances: [[ 65.555824 305.7822   309.35294 ]]\n",
      "113 Correct, 1.0\n",
      "174 Wrong, 4 classified as 0.0\n",
      "\tneighbours: [[2. 5. 0.]]\n",
      "\tdistances: [[ 69.412735 128.04378  167.56378 ]]\n",
      "\n",
      "\n",
      "Total accuracy: 0.27906976744186046\n",
      "[[1. 3. 1. 0. 1. 1.]\n",
      " [1. 6. 3. 0. 0. 2.]\n",
      " [3. 5. 5. 0. 0. 0.]\n",
      " [0. 1. 1. 0. 2. 0.]\n",
      " [1. 2. 1. 0. 0. 0.]\n",
      " [1. 1. 1. 0. 0. 0.]]\n"
     ]
    }
   ],
   "source": [
    "# Set the parameters for training\n",
    "data_path = \"./2024F_imgs/\"\n",
    "data_split_ratio = \"0.8\"              # For example, 80% of data used for training\n",
    "knn_value = \"3\"                       # Number of neighbors for KNN\n",
    "image_type = \".png\"                   # Image file extension\n",
    "save_flag = \"-s\"                      # Flag to save the trained model\n",
    "\n",
    "!python ./example_knn.py -p {data_path} -r {data_split_ratio} -k {knn_value} -i {image_type} {save_flag}"
   ]
  },
  {
   "cell_type": "code",
   "execution_count": 72,
   "metadata": {},
   "outputs": [
    {
     "ename": "NameError",
     "evalue": "name 'display_image' is not defined",
     "output_type": "error",
     "traceback": [
      "\u001b[1;31m---------------------------------------------------------------------------\u001b[0m",
      "\u001b[1;31mNameError\u001b[0m                                 Traceback (most recent call last)",
      "Cell \u001b[1;32mIn[72], line 29\u001b[0m\n\u001b[0;32m     26\u001b[0m         \u001b[38;5;28mprint\u001b[39m(\u001b[38;5;124mf\u001b[39m\u001b[38;5;124m\"\u001b[39m\u001b[38;5;124mWarning: Could not load image at \u001b[39m\u001b[38;5;132;01m{\u001b[39;00mpath\u001b[38;5;132;01m}\u001b[39;00m\u001b[38;5;124m\"\u001b[39m)\n\u001b[0;32m     28\u001b[0m \u001b[38;5;66;03m# Process the images using your function to get preprocessed (grayscale) versions\u001b[39;00m\n\u001b[1;32m---> 29\u001b[0m processed_images \u001b[38;5;241m=\u001b[39m \u001b[43mdisplay_image\u001b[49m(images)\n\u001b[0;32m     31\u001b[0m \u001b[38;5;66;03m# Visualize the processed images\u001b[39;00m\n\u001b[0;32m     32\u001b[0m \u001b[38;5;28;01mfor\u001b[39;00m idx, proc_img \u001b[38;5;129;01min\u001b[39;00m \u001b[38;5;28menumerate\u001b[39m(processed_images):\n",
      "\u001b[1;31mNameError\u001b[0m: name 'display_image' is not defined"
     ]
    }
   ],
   "source": [
    "import cv2\n",
    "import matplotlib.pyplot as plt\n",
    "\n",
    "# If your functions are in a separate file (e.g., preprocessing.py), you can import them:\n",
    "# from preprocessing import get_first_five_processed_images\n",
    "\n",
    "# For this example, we'll assume the functions are already defined in the notebook.\n",
    "# Make sure the functions `preprocess_image` and `get_first_five_processed_images` are in scope.\n",
    "\n",
    "# List of image file paths (update these paths with your actual image locations)\n",
    "image_paths = [\n",
    "    './2024F_imgs/1.png',\n",
    "    './2024F_imgs/2.png',\n",
    "    './2024F_imgs/3.png',\n",
    "    './2024F_imgs/4.png',\n",
    "    './2024F_imgs/5.png'\n",
    "]\n",
    "\n",
    "# Load images from file paths\n",
    "images = []\n",
    "for path in image_paths:\n",
    "    img = cv2.imread(path)\n",
    "    if img is not None:\n",
    "        images.append(img)\n",
    "    else:\n",
    "        print(f\"Warning: Could not load image at {path}\")\n",
    "\n",
    "# Process the images using your function to get preprocessed (grayscale) versions\n",
    "processed_images = display_image(images)\n",
    "\n",
    "# Visualize the processed images\n",
    "for idx, proc_img in enumerate(processed_images):\n",
    "    plt.figure()\n",
    "    plt.imshow(proc_img, cmap='gray')\n",
    "    plt.title(f'Processed Image {idx + 1}')\n",
    "    plt.axis('off')\n",
    "plt.show()\n"
   ]
  },
  {
   "cell_type": "code",
   "execution_count": 71,
   "metadata": {},
   "outputs": [
    {
     "name": "stderr",
     "output_type": "stream",
     "text": [
      "Traceback (most recent call last):\n",
      "  File \"c:\\Users\\kangb3\\Desktop\\GT\\ME7785Lab\\Lab6_ws\\model_grader.py\", line 142, in <module>\n",
      "    main()\n",
      "  File \"c:\\Users\\kangb3\\Desktop\\GT\\ME7785Lab\\Lab6_ws\\model_grader.py\", line 139, in main\n",
      "    evaluate_model(model, validation_data)\n",
      "  File \"c:\\Users\\kangb3\\Desktop\\GT\\ME7785Lab\\Lab6_ws\\model_grader.py\", line 106, in evaluate_model\n",
      "    predicted_label = predict(model, image)\n",
      "  File \"c:\\Users\\kangb3\\Desktop\\GT\\ME7785Lab\\Lab6_ws\\model_grader.py\", line 56, in predict\n",
      "    ret, results, neighbours, dists = model.findNearest(sample, 3)\n",
      "cv2.error: OpenCV(4.11.0) D:\\a\\opencv-python\\opencv-python\\opencv\\modules\\ml\\src\\knearest.cpp:313: error: (-215:Assertion failed) test_samples.type() == CV_32F && test_samples.cols == samples.cols in function 'cv::ml::BruteForceImpl::findNearest'\n",
      "\n"
     ]
    }
   ],
   "source": [
    "# Define the paths relative to the current working directory.\n",
    "data_path = \"./2024F_Gimgs/\"         # Path to validation dataset folder\n",
    "model_path = \"./knn_model.xml\"         # Path to your saved model file\n",
    "\n",
    "# Run the model grader script\n",
    "!python ./model_grader.py --data_path {data_path} --model_path {model_path}"
   ]
  }
 ],
 "metadata": {
  "kernelspec": {
   "display_name": "ME7785",
   "language": "python",
   "name": "python3"
  },
  "language_info": {
   "codemirror_mode": {
    "name": "ipython",
    "version": 3
   },
   "file_extension": ".py",
   "mimetype": "text/x-python",
   "name": "python",
   "nbconvert_exporter": "python",
   "pygments_lexer": "ipython3",
   "version": "3.10.16"
  }
 },
 "nbformat": 4,
 "nbformat_minor": 2
}

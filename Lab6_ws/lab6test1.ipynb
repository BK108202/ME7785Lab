{
 "cells": [
  {
   "cell_type": "code",
   "execution_count": null,
   "metadata": {},
   "outputs": [],
   "source": [
    "import cv2\n",
    "import argparse\n",
    "import csv\n",
    "import math\n",
    "import pickle\n",
    "import numpy as np\n",
    "import random\n",
    "import os\n",
    "import sys"
   ]
  },
  {
   "cell_type": "code",
   "execution_count": null,
   "metadata": {},
   "outputs": [],
   "source": [
    "import os\n",
    "print(\"Current working directory:\", os.getcwd())"
   ]
  },
  {
   "cell_type": "code",
   "execution_count": null,
   "metadata": {},
   "outputs": [],
   "source": [
    "data_path = \"./2025S_imgs/\"\n",
    "data_split_ratio = \"0.8\"  # 80% for training\n",
    "knn_value = \"5\"           # Number of neighbors\n",
    "image_type = \".png\"\n",
    "save_flag = \"-s\"          # Use this flag to save the model\n",
    "\n",
    "!python ./example_knn.py -p {data_path} -r {data_split_ratio} -k {knn_value} -i {image_type} {save_flag}\n"
   ]
  },
  {
   "cell_type": "code",
   "execution_count": null,
   "metadata": {},
   "outputs": [],
   "source": [
    "import cv2\n",
    "from preprocessing_test4 import preprocess_image\n",
    "import matplotlib.pyplot as plt\n",
    "# Load the image\n",
    "image = cv2.imread('./2025S_imgs/031.png')\n",
    "arrow_colored = preprocess_image(image)\n",
    "# Display the result\n",
    "plt.figure(figsize=(6, 6))\n",
    "plt.imshow(arrow_colored)\n",
    "plt.axis('off')         # Hide axes ticks\n",
    "plt.title('Processed Arrow Image')\n",
    "plt.show()\n"
   ]
  },
  {
   "cell_type": "code",
   "execution_count": null,
   "metadata": {},
   "outputs": [],
   "source": [
    "data_path = \"./2025S_imgs/\"\n",
    "data_split_ratio = \"0.8\"  # 80% for training\n",
    "epochs = \"20\"             # Number of training epochs\n",
    "batch_size = \"32\"         # Batch size for training\n",
    "image_type = \".png\"       # Image file extension\n",
    "save_flag = \"-s\"          # Flag to save the model\n",
    "model_name = \"my_cnn_model\"  # Filename for the saved model\n",
    "\n",
    "!python ./example_cnn.py -p {data_path} -r {data_split_ratio} -e {epochs} -b {batch_size} -i {image_type} {save_flag} -n {model_name}"
   ]
  },
  {
   "cell_type": "code",
   "execution_count": null,
   "metadata": {},
   "outputs": [],
   "source": [
    "# Define the paths relative to the current working directory.\n",
    "data_path = \"./2025S_imgs/\"         # Path to validation dataset folder\n",
    "model_path = \"./knn_model.xml\"         # Path to your saved model file\n",
    "\n",
    "# Run the model grader script\n",
    "!python ./model_grader_knn.py --data_path {data_path} --model_path {model_path}"
   ]
  }
 ],
 "metadata": {
  "kernelspec": {
   "display_name": "ME7785",
   "language": "python",
   "name": "python3"
  },
  "language_info": {
   "codemirror_mode": {
    "name": "ipython",
    "version": 3
   },
   "file_extension": ".py",
   "mimetype": "text/x-python",
   "name": "python",
   "nbconvert_exporter": "python",
   "pygments_lexer": "ipython3",
   "version": "3.10.16"
  }
 },
 "nbformat": 4,
 "nbformat_minor": 2
}
